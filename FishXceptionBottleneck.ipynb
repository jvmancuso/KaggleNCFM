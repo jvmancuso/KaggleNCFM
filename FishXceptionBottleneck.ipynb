{
 "cells": [
  {
   "cell_type": "code",
   "execution_count": 2,
   "metadata": {
    "collapsed": false
   },
   "outputs": [
    {
     "name": "stderr",
     "output_type": "stream",
     "text": [
      "Using TensorFlow backend.\n"
     ]
    }
   ],
   "source": [
    "from keras.applications.xception import Xception\n",
    "import os\n",
    "from keras.layers import Input, Flatten, Dense, GlobalAveragePooling2D, Dropout\n",
    "from keras.models import Model\n",
    "from keras.optimizers import RMSprop, SGD\n",
    "from keras.callbacks import ModelCheckpoint\n",
    "from keras.preprocessing.image import ImageDataGenerator\n",
    "import numpy as np\n",
    "import time"
   ]
  },
  {
   "cell_type": "code",
   "execution_count": 3,
   "metadata": {
    "collapsed": true
   },
   "outputs": [],
   "source": [
    "img_width = 299\n",
    "img_height = 299\n",
    "nb_train_samples = 3019\n",
    "nb_validation_samples = 758\n",
    "nb_epoch = 50\n",
    "batch_size = 32\n",
    "\n",
    "train_data_dir = '/Users/jasonmancuso/iPython Directory/Kaggle/Nature Conservancy/train_split'\n",
    "val_data_dir = '/Users/jasonmancuso/iPython Directory/Kaggle/Nature Conservancy/val_split'\n",
    "top_model_weights_path = 'bottleneck_fc_model.h5'\n",
    "\n",
    "FishNames = ['ALB', 'BET', 'DOL', 'LAG', 'NoF', 'OTHER', 'SHARK', 'YFT']"
   ]
  },
  {
   "cell_type": "code",
   "execution_count": 4,
   "metadata": {
    "collapsed": false
   },
   "outputs": [
    {
     "name": "stdout",
     "output_type": "stream",
     "text": [
      "Loading Xception weights...\n",
      "Weights loaded.\n"
     ]
    }
   ],
   "source": [
    "datagen=ImageDataGenerator(rescale=1./255)\n",
    "\n",
    "# Build Xception network\n",
    "print \"Loading Xception weights...\"\n",
    "model = Xception(include_top=False, weights='imagenet', input_tensor=None)\n",
    "print \"Weights loaded.\""
   ]
  },
  {
   "cell_type": "code",
   "execution_count": null,
   "metadata": {
    "collapsed": true
   },
   "outputs": [],
   "source": [
    "# Generate and predict\n",
    "train_generator = datagen.flow_from_directory(\n",
    "    train_data_dir,\n",
    "    target_size=(img_width,img_height),\n",
    "    batch_size = batch_size,\n",
    "    class_mode=\"categorical\",\n",
    "    classes=FishNames,\n",
    "    shuffle=False)\n",
    "print \"Creating bottleneck training features...\"\n",
    "time0=time.time()\n",
    "bottleneck_features_train=model.predict_generator(train_generator,nb_train_samples)\n",
    "print \"Training features created. Time: {}. Saving features...\".format(time.time()-time0)\n",
    "np.save(open('bottleneck_features_train.npy', 'w'), bottleneck_features_train)\n",
    "print \"Training features saved.\""
   ]
  },
  {
   "cell_type": "code",
   "execution_count": 5,
   "metadata": {
    "collapsed": false
   },
   "outputs": [
    {
     "name": "stdout",
     "output_type": "stream",
     "text": [
      "Found 758 images belonging to 8 classes.\n",
      "Creating bottleneck validation features...\n",
      "Validation features created. Time: 391.835548162. Saving features...\n",
      "Validation features saved.\n"
     ]
    }
   ],
   "source": [
    "val_generator = datagen.flow_from_directory(\n",
    "    val_data_dir,\n",
    "    target_size=(img_width,img_height),\n",
    "    batch_size = batch_size,\n",
    "    class_mode=\"categorical\",\n",
    "    classes=FishNames,\n",
    "    shuffle=False)\n",
    "print \"Creating bottleneck validation features...\"\n",
    "time1=time.time()\n",
    "bottleneck_features_val=model.predict_generator(val_generator,nb_validation_samples)\n",
    "print \"Validation features created. Time: {}. Saving features...\".format(time.time()-time1)\n",
    "np.save(open('bottleneck_features_val.npy', 'w'), bottleneck_features_val)\n",
    "print \"Validation features saved.\""
   ]
  },
  {
   "cell_type": "code",
   "execution_count": null,
   "metadata": {
    "collapsed": true
   },
   "outputs": [],
   "source": []
  }
 ],
 "metadata": {
  "kernelspec": {
   "display_name": "Python 2",
   "language": "python",
   "name": "python2"
  },
  "language_info": {
   "codemirror_mode": {
    "name": "ipython",
    "version": 2
   },
   "file_extension": ".py",
   "mimetype": "text/x-python",
   "name": "python",
   "nbconvert_exporter": "python",
   "pygments_lexer": "ipython2",
   "version": "2.7.11"
  }
 },
 "nbformat": 4,
 "nbformat_minor": 0
}
