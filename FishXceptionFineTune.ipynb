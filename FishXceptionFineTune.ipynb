{
 "cells": [
  {
   "cell_type": "code",
   "execution_count": 1,
   "metadata": {
    "collapsed": false
   },
   "outputs": [
    {
     "name": "stderr",
     "output_type": "stream",
     "text": [
      "Using TensorFlow backend.\n"
     ]
    }
   ],
   "source": [
    "from keras.applications.xception import Xception\n",
    "from keras.layers import Input, Flatten, Dense, GlobalAveragePooling2D, Dropout\n",
    "from keras.models import Model\n",
    "from keras.optimizers import RMSprop, SGD\n",
    "from keras.callbacks import ModelCheckpoint\n",
    "from keras.preprocessing.image import ImageDataGenerator\n",
    "import numpy as np\n",
    "import time"
   ]
  },
  {
   "cell_type": "code",
   "execution_count": 2,
   "metadata": {
    "collapsed": false
   },
   "outputs": [],
   "source": [
    "nb_epoch = 20\n",
    "batch_size = 32\n",
    "lr = 1e-4\n",
    "img_height=299\n",
    "img_width=299\n",
    "nb_train_samples = 3019\n",
    "nb_validation_samples = 758\n",
    "train_data_dir = '/Users/jasonmancuso/iPython Directory/Kaggle/Nature Conservancy/train_split'\n",
    "val_data_dir = '/Users/jasonmancuso/iPython Directory/Kaggle/Nature Conservancy/val_split'\n",
    "top_model_weights_path = \"top_model.h5\"\n",
    "FishNames = ['ALB', 'BET', 'DOL', 'LAG', 'NoF', 'OTHER', 'SHARK', 'YFT']"
   ]
  },
  {
   "cell_type": "code",
   "execution_count": 3,
   "metadata": {
    "collapsed": false
   },
   "outputs": [
    {
     "name": "stdout",
     "output_type": "stream",
     "text": [
      "Loading Xception weights...\n",
      "Weights loaded.\n"
     ]
    }
   ],
   "source": [
    "# Build Xception network\n",
    "print \"Loading Xception weights...\"\n",
    "Xception_notop = Xception(include_top=False, weights='imagenet', input_tensor=None)\n",
    "print \"Weights loaded.\""
   ]
  },
  {
   "cell_type": "code",
   "execution_count": 4,
   "metadata": {
    "collapsed": false
   },
   "outputs": [],
   "source": [
    "input = Input(shape=(10,10,2048))\n",
    "x = GlobalAveragePooling2D()(input)\n",
    "x = Dense(256, activation='relu')(x)\n",
    "x = Dropout(.5)(x)\n",
    "predictions = Dense(8,activation='softmax')(x)\n",
    "top_model = Model(input,predictions)\n",
    "top_model.load_weights(top_model_weights_path)"
   ]
  },
  {
   "cell_type": "code",
   "execution_count": 5,
   "metadata": {
    "collapsed": false
   },
   "outputs": [],
   "source": [
    "output = top_model(Xception_notop.output)\n",
    "Xception_full = Model(Xception_notop.input,output)"
   ]
  },
  {
   "cell_type": "code",
   "execution_count": 6,
   "metadata": {
    "collapsed": false
   },
   "outputs": [],
   "source": [
    "for layer in Xception_full.layers[-7:]:\n",
    "    layer.trainable=False\n",
    "Xception_full.compile(loss='categorical_crossentropy',\n",
    "             optimizer=SGD(lr=lr,momentum=0.9,nesterov=True),\n",
    "             metrics=['accuracy','categorical_crossentropy'])\n",
    "#Xception_full.fit(train_features,train_labels,\n",
    "#             nb_epoch=nb_epoch, batch_size=batch_size,\n",
    "#             validation_data=(val_features,val_labels))\n",
    "#time.sleep(0.1)"
   ]
  },
  {
   "cell_type": "code",
   "execution_count": 7,
   "metadata": {
    "collapsed": false
   },
   "outputs": [
    {
     "name": "stdout",
     "output_type": "stream",
     "text": [
      "Found 3019 images belonging to 8 classes.\n",
      "Found 758 images belonging to 8 classes.\n",
      "Epoch 1/20\n",
      "3019/3019 [==============================] - 5092s - loss: 0.2623 - acc: 0.9089 - categorical_crossentropy: 0.2623 - val_loss: 0.2574 - val_acc: 0.9235 - val_categorical_crossentropy: 0.2574\n",
      "Epoch 2/20\n",
      "3019/3019 [==============================] - 5082s - loss: 0.2490 - acc: 0.9175 - categorical_crossentropy: 0.2490 - val_loss: 0.2827 - val_acc: 0.9129 - val_categorical_crossentropy: 0.2827\n",
      "Epoch 3/20\n",
      "3019/3019 [==============================] - 5055s - loss: 0.2433 - acc: 0.9149 - categorical_crossentropy: 0.2433 - val_loss: 0.2557 - val_acc: 0.9182 - val_categorical_crossentropy: 0.2557\n",
      "Epoch 4/20\n",
      "3019/3019 [==============================] - 5049s - loss: 0.2315 - acc: 0.9248 - categorical_crossentropy: 0.2315 - val_loss: 0.2347 - val_acc: 0.9261 - val_categorical_crossentropy: 0.2347\n",
      "Epoch 5/20\n",
      "3019/3019 [==============================] - 5076s - loss: 0.2099 - acc: 0.9308 - categorical_crossentropy: 0.2099 - val_loss: 0.2600 - val_acc: 0.9222 - val_categorical_crossentropy: 0.2600\n",
      "Epoch 6/20\n",
      "3019/3019 [==============================] - 5076s - loss: 0.2167 - acc: 0.9288 - categorical_crossentropy: 0.2167 - val_loss: 0.2361 - val_acc: 0.9274 - val_categorical_crossentropy: 0.2361\n",
      "Epoch 7/20\n",
      "3019/3019 [==============================] - 5079s - loss: 0.1939 - acc: 0.9387 - categorical_crossentropy: 0.1939 - val_loss: 0.2478 - val_acc: 0.9301 - val_categorical_crossentropy: 0.2478\n",
      "Epoch 8/20\n",
      "3019/3019 [==============================] - 5083s - loss: 0.2066 - acc: 0.9321 - categorical_crossentropy: 0.2066 - val_loss: 0.2298 - val_acc: 0.9314 - val_categorical_crossentropy: 0.2298\n",
      "Epoch 9/20\n",
      "3019/3019 [==============================] - 5088s - loss: 0.2113 - acc: 0.9228 - categorical_crossentropy: 0.2113 - val_loss: 0.2426 - val_acc: 0.9274 - val_categorical_crossentropy: 0.2426\n",
      "Epoch 10/20\n",
      "3019/3019 [==============================] - 5091s - loss: 0.2169 - acc: 0.9275 - categorical_crossentropy: 0.2169 - val_loss: 0.2387 - val_acc: 0.9327 - val_categorical_crossentropy: 0.2387\n",
      "Epoch 11/20\n",
      "3019/3019 [==============================] - 5092s - loss: 0.1981 - acc: 0.9331 - categorical_crossentropy: 0.1981 - val_loss: 0.2240 - val_acc: 0.9301 - val_categorical_crossentropy: 0.2240\n",
      "Epoch 12/20\n",
      "3019/3019 [==============================] - 5097s - loss: 0.1842 - acc: 0.9417 - categorical_crossentropy: 0.1842 - val_loss: 0.2579 - val_acc: 0.9274 - val_categorical_crossentropy: 0.2579\n",
      "Epoch 13/20\n",
      "3019/3019 [==============================] - 5090s - loss: 0.1785 - acc: 0.9407 - categorical_crossentropy: 0.1785 - val_loss: 0.2305 - val_acc: 0.9301 - val_categorical_crossentropy: 0.2305\n",
      "Epoch 14/20\n",
      "3019/3019 [==============================] - 5103s - loss: 0.1717 - acc: 0.9453 - categorical_crossentropy: 0.1717 - val_loss: 0.2371 - val_acc: 0.9274 - val_categorical_crossentropy: 0.2371\n",
      "Epoch 15/20\n",
      "3019/3019 [==============================] - 5096s - loss: 0.1634 - acc: 0.9427 - categorical_crossentropy: 0.1634 - val_loss: 0.2265 - val_acc: 0.9327 - val_categorical_crossentropy: 0.2265\n",
      "Epoch 16/20\n",
      "3019/3019 [==============================] - 5093s - loss: 0.1681 - acc: 0.9434 - categorical_crossentropy: 0.1681 - val_loss: 0.2153 - val_acc: 0.9393 - val_categorical_crossentropy: 0.2153\n",
      "Epoch 17/20\n",
      "3019/3019 [==============================] - 5107s - loss: 0.1690 - acc: 0.9444 - categorical_crossentropy: 0.1690 - val_loss: 0.2321 - val_acc: 0.9301 - val_categorical_crossentropy: 0.2321\n",
      "Epoch 18/20\n",
      "3019/3019 [==============================] - 5124s - loss: 0.1586 - acc: 0.9487 - categorical_crossentropy: 0.1586 - val_loss: 0.2202 - val_acc: 0.9314 - val_categorical_crossentropy: 0.2202\n",
      "Epoch 19/20\n",
      "3019/3019 [==============================] - 5111s - loss: 0.1627 - acc: 0.9487 - categorical_crossentropy: 0.1627 - val_loss: 0.2419 - val_acc: 0.9327 - val_categorical_crossentropy: 0.2419\n",
      "Epoch 20/20\n",
      "3019/3019 [==============================] - 5088s - loss: 0.1744 - acc: 0.9400 - categorical_crossentropy: 0.1744 - val_loss: 0.2193 - val_acc: 0.9301 - val_categorical_crossentropy: 0.2193\n"
     ]
    },
    {
     "data": {
      "text/plain": [
       "<keras.callbacks.History at 0x132db5690>"
      ]
     },
     "execution_count": 7,
     "metadata": {},
     "output_type": "execute_result"
    }
   ],
   "source": [
    "train_datagen = ImageDataGenerator(\n",
    "    rescale=1./255,\n",
    "    shear_range=0.1,\n",
    "    zoom_range=0.1,\n",
    "    rotation_range=10.,\n",
    "    width_shift_range=0.1,\n",
    "    height_shift_range=0.1,\n",
    "    horizontal_flip=True)\n",
    "\n",
    "val_datagen = ImageDataGenerator(rescale=1./255)\n",
    "\n",
    "train_generator = train_datagen.flow_from_directory(\n",
    "    train_data_dir,\n",
    "    target_size=(img_height, img_width),\n",
    "    batch_size=32,\n",
    "    class_mode='categorical',\n",
    "    classes=FishNames)\n",
    "\n",
    "validation_generator = val_datagen.flow_from_directory(\n",
    "    val_data_dir,\n",
    "    target_size=(img_height, img_width),\n",
    "    batch_size=32,\n",
    "    class_mode='categorical',\n",
    "    classes=FishNames)\n",
    "\n",
    "Xception_full.load_weights(\"Xception_full_epoch30_valcc0.2492.h5\")\n",
    "\n",
    "checkpoint_file = \"./Xception_full.{epoch:02d}-{val_loss:.2f}.hdf5\"\n",
    "checkpointer = ModelCheckpoint(checkpoint_file, monitor='val_loss', verbose = 1)\n",
    "\n",
    "# fine-tune the model\n",
    "Xception_full.fit_generator(\n",
    "    train_generator,\n",
    "    samples_per_epoch=nb_train_samples,\n",
    "    nb_epoch=nb_epoch,\n",
    "    validation_data=validation_generator,\n",
    "    callbacks=[checkpointer]\n",
    "    nb_val_samples=nb_validation_samples)"
   ]
  },
  {
   "cell_type": "code",
   "execution_count": 8,
   "metadata": {
    "collapsed": false
   },
   "outputs": [],
   "source": [
    "import os\n",
    "test_datagen = ImageDataGenerator(\n",
    "        rescale=1./255,\n",
    "        shear_range=0.1,\n",
    "        zoom_range=0.1,\n",
    "        width_shift_range=0.1,\n",
    "        height_shift_range=0.1,\n",
    "        horizontal_flip=True)\n",
    "\n",
    "root_path = '/Users/jasonmancuso/iPython Directory/Kaggle/Nature Conservancy/'\n",
    "test_data_dir = os.path.join(root_path, 'test_stg1')\n",
    "nbr_augmentation=5\n",
    "nbr_test_samples=1000"
   ]
  },
  {
   "cell_type": "code",
   "execution_count": 9,
   "metadata": {
    "collapsed": false
   },
   "outputs": [
    {
     "name": "stdout",
     "output_type": "stream",
     "text": [
      "0th augmentation for testing ...\n",
      "Found 1000 images belonging to 1 classes.\n",
      "Begin to predict for testing data ...\n"
     ]
    },
    {
     "name": "stderr",
     "output_type": "stream",
     "text": [
      "/Users/jasonmancuso/anaconda/lib/python2.7/site-packages/ipykernel/__main__.py:3: DeprecationWarning: This function is deprecated. Please call randint(0, 100000 + 1) instead\n",
      "  app.launch_new_instance()\n"
     ]
    },
    {
     "name": "stdout",
     "output_type": "stream",
     "text": [
      "1th augmentation for testing ...\n",
      "Found 1000 images belonging to 1 classes.\n",
      "Begin to predict for testing data ...\n",
      "2th augmentation for testing ...\n",
      "Found 1000 images belonging to 1 classes.\n",
      "Begin to predict for testing data ...\n",
      "3th augmentation for testing ...\n",
      "Found 1000 images belonging to 1 classes.\n",
      "Begin to predict for testing data ...\n",
      "4th augmentation for testing ...\n",
      "Found 1000 images belonging to 1 classes.\n",
      "Begin to predict for testing data ...\n",
      "Begin to write submission file ..\n",
      "0 / 1000\n",
      "100 / 1000\n",
      "200 / 1000\n",
      "300 / 1000\n",
      "400 / 1000\n",
      "500 / 1000\n",
      "600 / 1000\n",
      "700 / 1000\n",
      "800 / 1000\n",
      "900 / 1000\n",
      "Submission file successfully generated!\n"
     ]
    }
   ],
   "source": [
    "for idx in range(nbr_augmentation):\n",
    "    print('{}th augmentation for testing ...'.format(idx))\n",
    "    random_seed = np.random.random_integers(0, 100000)\n",
    "\n",
    "    test_generator = test_datagen.flow_from_directory(\n",
    "        test_data_dir,\n",
    "        target_size=(img_width, img_height),\n",
    "        batch_size=batch_size,\n",
    "        shuffle = False, # Important !!!\n",
    "        seed = random_seed,\n",
    "        classes = None,\n",
    "        class_mode = None)\n",
    "\n",
    "    test_image_list = test_generator.filenames\n",
    "    #print('image_list: {}'.format(test_image_list[:10]))\n",
    "    print('Begin to predict for testing data ...')\n",
    "    if idx == 0:\n",
    "        predictions = Xception_full.predict_generator(test_generator, nbr_test_samples)\n",
    "    else:\n",
    "        predictions += Xception_full.predict_generator(test_generator, nbr_test_samples)\n",
    "\n",
    "predictions /= nbr_augmentation\n",
    "\n",
    "print('Begin to write submission file ..')\n",
    "f_submit = open(os.path.join(root_path, 'submit.csv'), 'w')\n",
    "f_submit.write('image,ALB,BET,DOL,LAG,NoF,OTHER,SHARK,YFT\\n')\n",
    "for i, image_name in enumerate(test_image_list):\n",
    "    pred = ['%.6f' % p for p in predictions[i, :]]\n",
    "    if i % 100 == 0:\n",
    "        print('{} / {}'.format(i, nbr_test_samples))\n",
    "    f_submit.write('%s,%s\\n' % (os.path.basename(image_name), ','.join(pred)))\n",
    "\n",
    "f_submit.close()\n",
    "\n",
    "print('Submission file successfully generated!')"
   ]
  },
  {
   "cell_type": "code",
   "execution_count": 10,
   "metadata": {
    "collapsed": true
   },
   "outputs": [],
   "source": [
    "Xception_full.save(\"Xception_full.epoch50.hdf5\")"
   ]
  },
  {
   "cell_type": "code",
   "execution_count": null,
   "metadata": {
    "collapsed": true
   },
   "outputs": [],
   "source": []
  }
 ],
 "metadata": {
  "kernelspec": {
   "display_name": "Python 2",
   "language": "python",
   "name": "python2"
  },
  "language_info": {
   "codemirror_mode": {
    "name": "ipython",
    "version": 2
   },
   "file_extension": ".py",
   "mimetype": "text/x-python",
   "name": "python",
   "nbconvert_exporter": "python",
   "pygments_lexer": "ipython2",
   "version": "2.7.11"
  }
 },
 "nbformat": 4,
 "nbformat_minor": 0
}
