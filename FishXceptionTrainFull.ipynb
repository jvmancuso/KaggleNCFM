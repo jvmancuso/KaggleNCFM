{
 "cells": [
  {
   "cell_type": "code",
   "execution_count": null,
   "metadata": {
    "collapsed": false
   },
   "outputs": [],
   "source": [
    "from keras.applications.xception import Xception\n",
    "import os\n",
    "from keras.layers import Flatten, Dense, GlobalAveragePooling2D\n",
    "from keras.models import Model\n",
    "from keras.optimizers import RMSprop, SGD\n",
    "from keras.callbacks import ModelCheckpoint\n",
    "from keras.preprocessing.image import ImageDataGenerator"
   ]
  },
  {
   "cell_type": "code",
   "execution_count": null,
   "metadata": {
    "collapsed": true
   },
   "outputs": [],
   "source": [
    "learning_rate = 0.0001\n",
    "img_width = 299\n",
    "img_height = 299\n",
    "nbr_train_samples = 3019\n",
    "nbr_validation_samples = 758\n",
    "nbr_epochs = 25\n",
    "batch_size = 32\n",
    "\n",
    "train_data_dir = '/Users/jasonmancuso/iPython Directory/Kaggle/Nature Conservancy/train_split'\n",
    "val_data_dir = '/Users/jasonmancuso/iPython Directory/Kaggle/Nature Conservancy/val_split'\n",
    "\n",
    "FishNames = ['ALB', 'BET', 'DOL', 'LAG', 'NoF', 'OTHER', 'SHARK', 'YFT']"
   ]
  },
  {
   "cell_type": "code",
   "execution_count": null,
   "metadata": {
    "collapsed": false
   },
   "outputs": [],
   "source": [
    "print('Loading Xception Weights ...')\n",
    "Xception_notop = Xception(include_top=False, weights='imagenet',\n",
    "                    input_tensor=None)\n",
    "# Note that the preprocessing of Xception is:\n",
    "# (x / 255 - 0.5) x 2\n",
    "\n",
    "print('Adding Average Pooling Layer and Softmax Output Layer ...')\n",
    "output = Xception_notop.get_layer(name = 'block14_sepconv2_act').output  # Shape: (8, 8, 2048)\n",
    "output = GlobalAveragePooling2D(name='avg_pool')(output)\n",
    "output = Dense(8, activation='softmax', name='predictions')(output)\n",
    "\n",
    "Xception_model = Model(Xception_notop.input, output)\n",
    "\n",
    "optimizer = SGD(lr = learning_rate, momentum = 0.9, decay = 0.0, nesterov = True)\n",
    "Xception_model.compile(loss='categorical_crossentropy', optimizer = optimizer, metrics = ['accuracy'])\n",
    "\n",
    "# autosave best Model\n",
    "best_model_file = \"./weights.h5\"\n",
    "best_model = ModelCheckpoint(best_model_file, monitor='val_acc', verbose = 1, save_best_only = True)\n",
    "\n",
    "# this is the augmentation configuration we will use for training\n",
    "train_datagen = ImageDataGenerator(\n",
    "        rescale=1./255,\n",
    "        shear_range=0.1,\n",
    "        zoom_range=0.1,\n",
    "        rotation_range=10.,\n",
    "        width_shift_range=0.1,\n",
    "        height_shift_range=0.1,\n",
    "        horizontal_flip=True)\n",
    "\n",
    "# this is the augmentation configuration we will use for validation:\n",
    "# only rescaling\n",
    "val_datagen = ImageDataGenerator(rescale=1./255)\n",
    "\n",
    "train_generator = train_datagen.flow_from_directory(\n",
    "        train_data_dir,\n",
    "        target_size = (img_width, img_height),\n",
    "        batch_size = batch_size,\n",
    "        shuffle = True,\n",
    "        # save_to_dir = '/Users/pengpai/Desktop/python/DeepLearning/Kaggle/NCFM/data/visualization',\n",
    "        # save_prefix = 'aug',\n",
    "        classes = FishNames,\n",
    "        class_mode = 'categorical')\n",
    "\n",
    "validation_generator = val_datagen.flow_from_directory(\n",
    "        val_data_dir,\n",
    "        target_size=(img_width, img_height),\n",
    "        batch_size=batch_size,\n",
    "        shuffle = True,\n",
    "        #save_to_dir = '/Users/pengpai/Desktop/python/DeepLearning/Kaggle/NCFM/data/visulization',\n",
    "        #save_prefix = 'aug',\n",
    "        classes = FishNames,\n",
    "        class_mode = 'categorical')\n",
    "\n",
    "Xception_model.fit_generator(\n",
    "        train_generator,\n",
    "        samples_per_epoch = nbr_train_samples,\n",
    "        nb_epoch = nbr_epochs,\n",
    "        validation_data = validation_generator,\n",
    "        nb_val_samples = nbr_validation_samples,\n",
    "        callbacks = [best_model]) "
   ]
  },
  {
   "cell_type": "markdown",
   "metadata": {
    "collapsed": true
   },
   "source": []
  }
 ],
 "metadata": {
  "kernelspec": {
   "display_name": "Python 2",
   "language": "python",
   "name": "python2"
  },
  "language_info": {
   "codemirror_mode": {
    "name": "ipython",
    "version": 2
   },
   "file_extension": ".py",
   "mimetype": "text/x-python",
   "name": "python",
   "nbconvert_exporter": "python",
   "pygments_lexer": "ipython2",
   "version": "2.7.11"
  }
 },
 "nbformat": 4,
 "nbformat_minor": 0
}
