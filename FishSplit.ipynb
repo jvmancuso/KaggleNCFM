{
 "cells": [
  {
   "cell_type": "code",
   "execution_count": 1,
   "metadata": {
    "collapsed": false
   },
   "outputs": [],
   "source": [
    "import os\n",
    "import numpy as np\n",
    "import shutil"
   ]
  },
  {
   "cell_type": "code",
   "execution_count": 2,
   "metadata": {
    "collapsed": false
   },
   "outputs": [],
   "source": [
    "\n",
    "np.random.seed(4321)\n",
    "\n",
    "root_train = '/Users/jasonmancuso/iPython Directory/Kaggle/Nature Conservancy/train_split'\n",
    "root_val = '/Users/jasonmancuso/iPython Directory/Kaggle/Nature Conservancy/val_split'\n",
    "\n",
    "root_total = '/Users/jasonmancuso/iPython Directory/Kaggle/Nature Conservancy/train'\n",
    "\n",
    "FishNames = ['ALB', 'BET', 'DOL', 'LAG', 'NoF', 'OTHER', 'SHARK', 'YFT']\n",
    "\n",
    "nbr_train_samples = 0\n",
    "nbr_val_samples = 0\n",
    "\n",
    "# Training proportion\n",
    "split_proportion = 0.8"
   ]
  },
  {
   "cell_type": "code",
   "execution_count": 4,
   "metadata": {
    "collapsed": false
   },
   "outputs": [
    {
     "name": "stdout",
     "output_type": "stream",
     "text": [
      "Finish splitting train and val images!\n",
      "# training samples: 3019, # val samples: 758\n"
     ]
    }
   ],
   "source": [
    "for fish in FishNames:\n",
    "    if fish not in os.listdir(root_train):\n",
    "        os.mkdir(os.path.join(root_train, fish))\n",
    "\n",
    "    total_images = os.listdir(os.path.join(root_total, fish))\n",
    "\n",
    "    nbr_train = int(len(total_images) * split_proportion)\n",
    "\n",
    "    np.random.shuffle(total_images)\n",
    "\n",
    "    train_images = total_images[:nbr_train]\n",
    "\n",
    "    val_images = total_images[nbr_train:]\n",
    "\n",
    "    for img in train_images:\n",
    "        source = os.path.join(root_total, fish, img)\n",
    "        target = os.path.join(root_train, fish, img)\n",
    "        shutil.copy(source, target)\n",
    "        nbr_train_samples += 1\n",
    "\n",
    "    if fish not in os.listdir(root_val):\n",
    "        os.mkdir(os.path.join(root_val, fish))\n",
    "\n",
    "    for img in val_images:\n",
    "        source = os.path.join(root_total, fish, img)\n",
    "        target = os.path.join(root_val, fish, img)\n",
    "        shutil.copy(source, target)\n",
    "        nbr_val_samples += 1\n",
    "\n",
    "print('Finish splitting train and val images!')\n",
    "print('# training samples: {}, # val samples: {}'.format(nbr_train_samples, nbr_val_samples))"
   ]
  },
  {
   "cell_type": "code",
   "execution_count": null,
   "metadata": {
    "collapsed": true
   },
   "outputs": [],
   "source": []
  }
 ],
 "metadata": {
  "kernelspec": {
   "display_name": "Python 2",
   "language": "python",
   "name": "python2"
  },
  "language_info": {
   "codemirror_mode": {
    "name": "ipython",
    "version": 2
   },
   "file_extension": ".py",
   "mimetype": "text/x-python",
   "name": "python",
   "nbconvert_exporter": "python",
   "pygments_lexer": "ipython2",
   "version": "2.7.11"
  }
 },
 "nbformat": 4,
 "nbformat_minor": 0
}
