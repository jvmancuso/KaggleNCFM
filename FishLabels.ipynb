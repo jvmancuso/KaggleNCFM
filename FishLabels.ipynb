{
 "cells": [
  {
   "cell_type": "code",
   "execution_count": 1,
   "metadata": {
    "collapsed": false
   },
   "outputs": [],
   "source": [
    "import os\n",
    "import time\n",
    "from subprocess import check_output\n",
    "import numpy as np"
   ]
  },
  {
   "cell_type": "code",
   "execution_count": 2,
   "metadata": {
    "collapsed": false
   },
   "outputs": [
    {
     "data": {
      "text/plain": [
       "'/Users/jasonmancuso/iPython Directory/Kaggle/Nature Conservancy'"
      ]
     },
     "execution_count": 2,
     "metadata": {},
     "output_type": "execute_result"
    }
   ],
   "source": [
    "os.getcwd()"
   ]
  },
  {
   "cell_type": "code",
   "execution_count": 3,
   "metadata": {
    "collapsed": false
   },
   "outputs": [
    {
     "name": "stdout",
     "output_type": "stream",
     "text": [
      "Number of files for the species ALB : 1375\n",
      "Number of files for the species BET : 160\n",
      "Number of files for the species DOL : 93\n",
      "Number of files for the species LAG : 53\n",
      "Number of files for the species NoF : 372\n",
      "Number of files for the species OTHER : 239\n",
      "Number of files for the species SHARK : 140\n",
      "Number of files for the species YFT : 587\n"
     ]
    }
   ],
   "source": [
    "sub_folders_train = check_output([\"ls\", \"./train_split/\"]).decode(\"utf8\").strip().split('\\n')\n",
    "count_dict_train = {}\n",
    "for sub_folder in sub_folders_train:\n",
    "    num_of_files = len(check_output([\"ls\", \"./train_split/\"+sub_folder]).decode(\"utf8\").strip().split('\\n'))\n",
    "    print \"Number of files for the species\",sub_folder,\":\",num_of_files\n",
    "    count_dict_train[sub_folder] = num_of_files"
   ]
  },
  {
   "cell_type": "code",
   "execution_count": 4,
   "metadata": {
    "collapsed": false
   },
   "outputs": [
    {
     "name": "stdout",
     "output_type": "stream",
     "text": [
      "Number of files for the species ALB : 344\n",
      "Number of files for the species BET : 40\n",
      "Number of files for the species DOL : 24\n",
      "Number of files for the species LAG : 14\n",
      "Number of files for the species NoF : 93\n",
      "Number of files for the species OTHER : 60\n",
      "Number of files for the species SHARK : 36\n",
      "Number of files for the species YFT : 147\n"
     ]
    }
   ],
   "source": [
    "sub_folders_val = check_output([\"ls\", \"./val_split/\"]).decode(\"utf8\").strip().split('\\n')\n",
    "count_dict_val = {}\n",
    "for sub_folder in sub_folders_val:\n",
    "    num_of_files = len(check_output([\"ls\", \"./val_split/\"+sub_folder]).decode(\"utf8\").strip().split('\\n'))\n",
    "    print \"Number of files for the species\",sub_folder,\":\",num_of_files\n",
    "    count_dict_val[sub_folder] = num_of_files"
   ]
  },
  {
   "cell_type": "code",
   "execution_count": 5,
   "metadata": {
    "collapsed": false
   },
   "outputs": [],
   "source": [
    "train_labels_dict = {}\n",
    "for fish in count_dict_train:\n",
    "    findex = sorted(count_dict_train.keys()).index(fish)\n",
    "    onehotvect=[0]*8\n",
    "    onehotvect[findex]=1\n",
    "    train_labels_dict[fish+\"_train_labels\"] = np.tile(np.array(onehotvect),(count_dict_train[fish],1))\n",
    "val_labels_dict = {}\n",
    "for fish in count_dict_val:\n",
    "    findex = sorted(count_dict_val.keys()).index(fish)\n",
    "    onehotvect=[0]*8\n",
    "    onehotvect[findex]=1\n",
    "    val_labels_dict[fish+\"_val_labels\"] = np.tile(np.array(onehotvect),(count_dict_val[fish],1))"
   ]
  },
  {
   "cell_type": "code",
   "execution_count": 6,
   "metadata": {
    "collapsed": false
   },
   "outputs": [],
   "source": [
    "train_labels = np.concatenate(tuple(train_labels_dict[x+\"_train_labels\"] for x in sorted(count_dict_train.keys())))\n",
    "val_labels = np.concatenate(tuple(val_labels_dict[x+\"_val_labels\"] for x in sorted(count_dict_val.keys())))"
   ]
  },
  {
   "cell_type": "code",
   "execution_count": 7,
   "metadata": {
    "collapsed": false
   },
   "outputs": [],
   "source": [
    "np.save(open(\"train_labels.npy\",\"w\"),train_labels)\n",
    "np.save(open(\"val_labels.npy\",\"w\"),val_labels)"
   ]
  }
 ],
 "metadata": {
  "kernelspec": {
   "display_name": "Python 2",
   "language": "python",
   "name": "python2"
  },
  "language_info": {
   "codemirror_mode": {
    "name": "ipython",
    "version": 2
   },
   "file_extension": ".py",
   "mimetype": "text/x-python",
   "name": "python",
   "nbconvert_exporter": "python",
   "pygments_lexer": "ipython2",
   "version": "2.7.11"
  }
 },
 "nbformat": 4,
 "nbformat_minor": 0
}
