{
 "cells": [
  {
   "cell_type": "code",
   "execution_count": 1,
   "metadata": {
    "collapsed": false
   },
   "outputs": [
    {
     "name": "stderr",
     "output_type": "stream",
     "text": [
      "Using TensorFlow backend.\n"
     ]
    }
   ],
   "source": [
    "from keras.applications.xception import Xception\n",
    "from keras.layers import Input, Flatten, Dense, GlobalAveragePooling2D, Dropout\n",
    "from keras.models import Model\n",
    "from keras.optimizers import RMSprop, SGD\n",
    "from keras.callbacks import ModelCheckpoint\n",
    "from keras.preprocessing.image import ImageDataGenerator\n",
    "import numpy as np\n",
    "import time"
   ]
  },
  {
   "cell_type": "code",
   "execution_count": 2,
   "metadata": {
    "collapsed": true
   },
   "outputs": [],
   "source": [
    "nb_epoch=50\n",
    "batch_size=32"
   ]
  },
  {
   "cell_type": "code",
   "execution_count": 3,
   "metadata": {
    "collapsed": true
   },
   "outputs": [],
   "source": [
    "input = Input(shape=(10,10,2048))\n",
    "x = GlobalAveragePooling2D()(input)\n",
    "x = Dense(256, activation='relu')(x)\n",
    "x = Dropout(.5)(x)\n",
    "predictions = Dense(8,activation='softmax')(x)\n",
    "top_model = Model(input,predictions)"
   ]
  },
  {
   "cell_type": "code",
   "execution_count": 4,
   "metadata": {
    "collapsed": true
   },
   "outputs": [],
   "source": [
    "train_features = np.load(\"bottleneck_features_train.npy\")\n",
    "val_features = np.load(\"bottleneck_features_val.npy\")\n",
    "train_labels = np.load(\"train_labels.npy\")\n",
    "val_labels = np.load(\"val_labels.npy\")"
   ]
  },
  {
   "cell_type": "code",
   "execution_count": 5,
   "metadata": {
    "collapsed": false
   },
   "outputs": [
    {
     "name": "stdout",
     "output_type": "stream",
     "text": [
      "Train on 3019 samples, validate on 758 samples\n",
      "Epoch 1/50\n",
      "3019/3019 [==============================] - 2s - loss: 1.2299 - acc: 0.5780 - categorical_crossentropy: 1.2299 - val_loss: 0.8760 - val_acc: 0.7058 - val_categorical_crossentropy: 0.8760\n",
      "Epoch 2/50\n",
      "3019/3019 [==============================] - 2s - loss: 0.7771 - acc: 0.7314 - categorical_crossentropy: 0.7771 - val_loss: 0.7018 - val_acc: 0.7401 - val_categorical_crossentropy: 0.7018\n",
      "Epoch 3/50\n",
      "3019/3019 [==============================] - 2s - loss: 0.6096 - acc: 0.7996 - categorical_crossentropy: 0.6096 - val_loss: 0.6130 - val_acc: 0.8021 - val_categorical_crossentropy: 0.6130\n",
      "Epoch 4/50\n",
      "3019/3019 [==============================] - 2s - loss: 0.4667 - acc: 0.8473 - categorical_crossentropy: 0.4667 - val_loss: 0.4521 - val_acc: 0.8668 - val_categorical_crossentropy: 0.4521\n",
      "Epoch 5/50\n",
      "3019/3019 [==============================] - 2s - loss: 0.3924 - acc: 0.8784 - categorical_crossentropy: 0.3924 - val_loss: 0.3948 - val_acc: 0.8799 - val_categorical_crossentropy: 0.3948\n",
      "Epoch 6/50\n",
      "3019/3019 [==============================] - 2s - loss: 0.3313 - acc: 0.8993 - categorical_crossentropy: 0.3313 - val_loss: 0.3665 - val_acc: 0.8865 - val_categorical_crossentropy: 0.3665\n",
      "Epoch 7/50\n",
      "3019/3019 [==============================] - 2s - loss: 0.2779 - acc: 0.9172 - categorical_crossentropy: 0.2779 - val_loss: 0.3441 - val_acc: 0.9037 - val_categorical_crossentropy: 0.3441\n",
      "Epoch 8/50\n",
      "3019/3019 [==============================] - 2s - loss: 0.2566 - acc: 0.9258 - categorical_crossentropy: 0.2566 - val_loss: 0.3087 - val_acc: 0.9208 - val_categorical_crossentropy: 0.3087\n",
      "Epoch 9/50\n",
      "3019/3019 [==============================] - 2s - loss: 0.2139 - acc: 0.9344 - categorical_crossentropy: 0.2139 - val_loss: 0.3045 - val_acc: 0.9129 - val_categorical_crossentropy: 0.3045\n",
      "Epoch 10/50\n",
      "3019/3019 [==============================] - 2s - loss: 0.1781 - acc: 0.9483 - categorical_crossentropy: 0.1781 - val_loss: 0.2831 - val_acc: 0.9182 - val_categorical_crossentropy: 0.2831\n",
      "Epoch 11/50\n",
      "3019/3019 [==============================] - 2s - loss: 0.1665 - acc: 0.9483 - categorical_crossentropy: 0.1665 - val_loss: 0.3060 - val_acc: 0.9169 - val_categorical_crossentropy: 0.3060\n",
      "Epoch 12/50\n",
      "3019/3019 [==============================] - 3s - loss: 0.1493 - acc: 0.9546 - categorical_crossentropy: 0.1493 - val_loss: 0.2549 - val_acc: 0.9340 - val_categorical_crossentropy: 0.2549\n",
      "Epoch 13/50\n",
      "3019/3019 [==============================] - 2s - loss: 0.1406 - acc: 0.9583 - categorical_crossentropy: 0.1406 - val_loss: 0.2682 - val_acc: 0.9222 - val_categorical_crossentropy: 0.2682\n",
      "Epoch 14/50\n",
      "3019/3019 [==============================] - 3s - loss: 0.1163 - acc: 0.9672 - categorical_crossentropy: 0.1163 - val_loss: 0.2633 - val_acc: 0.9288 - val_categorical_crossentropy: 0.2633\n",
      "Epoch 15/50\n",
      "3019/3019 [==============================] - 2s - loss: 0.0909 - acc: 0.9758 - categorical_crossentropy: 0.0909 - val_loss: 0.2486 - val_acc: 0.9367 - val_categorical_crossentropy: 0.2486\n",
      "Epoch 16/50\n",
      "3019/3019 [==============================] - 3s - loss: 0.1047 - acc: 0.9695 - categorical_crossentropy: 0.1047 - val_loss: 0.2539 - val_acc: 0.9288 - val_categorical_crossentropy: 0.2539\n",
      "Epoch 17/50\n",
      "3019/3019 [==============================] - 2s - loss: 0.0851 - acc: 0.9768 - categorical_crossentropy: 0.0851 - val_loss: 0.2226 - val_acc: 0.9367 - val_categorical_crossentropy: 0.2226\n",
      "Epoch 18/50\n",
      "3019/3019 [==============================] - 3s - loss: 0.0910 - acc: 0.9738 - categorical_crossentropy: 0.0910 - val_loss: 0.2672 - val_acc: 0.9327 - val_categorical_crossentropy: 0.2672\n",
      "Epoch 19/50\n",
      "3019/3019 [==============================] - 3s - loss: 0.0773 - acc: 0.9788 - categorical_crossentropy: 0.0773 - val_loss: 0.2369 - val_acc: 0.9354 - val_categorical_crossentropy: 0.2369\n",
      "Epoch 20/50\n",
      "3019/3019 [==============================] - 3s - loss: 0.0703 - acc: 0.9815 - categorical_crossentropy: 0.0703 - val_loss: 0.2634 - val_acc: 0.9406 - val_categorical_crossentropy: 0.2634\n",
      "Epoch 21/50\n",
      "3019/3019 [==============================] - 3s - loss: 0.0644 - acc: 0.9851 - categorical_crossentropy: 0.0644 - val_loss: 0.2571 - val_acc: 0.9446 - val_categorical_crossentropy: 0.2571\n",
      "Epoch 22/50\n",
      "3019/3019 [==============================] - 2s - loss: 0.0479 - acc: 0.9871 - categorical_crossentropy: 0.0479 - val_loss: 0.2550 - val_acc: 0.9354 - val_categorical_crossentropy: 0.2550\n",
      "Epoch 23/50\n",
      "3019/3019 [==============================] - 2s - loss: 0.0472 - acc: 0.9854 - categorical_crossentropy: 0.0472 - val_loss: 0.2631 - val_acc: 0.9393 - val_categorical_crossentropy: 0.2631\n",
      "Epoch 24/50\n",
      "3019/3019 [==============================] - 2s - loss: 0.0690 - acc: 0.9815 - categorical_crossentropy: 0.0690 - val_loss: 0.2363 - val_acc: 0.9446 - val_categorical_crossentropy: 0.2363\n",
      "Epoch 25/50\n",
      "3019/3019 [==============================] - 3s - loss: 0.0525 - acc: 0.9841 - categorical_crossentropy: 0.0525 - val_loss: 0.2502 - val_acc: 0.9420 - val_categorical_crossentropy: 0.2502\n",
      "Epoch 26/50\n",
      "3019/3019 [==============================] - 3s - loss: 0.0500 - acc: 0.9871 - categorical_crossentropy: 0.0500 - val_loss: 0.2384 - val_acc: 0.9380 - val_categorical_crossentropy: 0.2384\n",
      "Epoch 27/50\n",
      "3019/3019 [==============================] - 2s - loss: 0.0407 - acc: 0.9907 - categorical_crossentropy: 0.0407 - val_loss: 0.2437 - val_acc: 0.9274 - val_categorical_crossentropy: 0.2437\n",
      "Epoch 28/50\n",
      "3019/3019 [==============================] - 2s - loss: 0.0327 - acc: 0.9937 - categorical_crossentropy: 0.0327 - val_loss: 0.2643 - val_acc: 0.9367 - val_categorical_crossentropy: 0.2643\n",
      "Epoch 29/50\n",
      "3019/3019 [==============================] - 3s - loss: 0.0391 - acc: 0.9904 - categorical_crossentropy: 0.0391 - val_loss: 0.2725 - val_acc: 0.9327 - val_categorical_crossentropy: 0.2725\n",
      "Epoch 30/50\n",
      "3019/3019 [==============================] - 2s - loss: 0.0415 - acc: 0.9871 - categorical_crossentropy: 0.0415 - val_loss: 0.2810 - val_acc: 0.9340 - val_categorical_crossentropy: 0.2810\n",
      "Epoch 31/50\n",
      "3019/3019 [==============================] - 3s - loss: 0.0343 - acc: 0.9917 - categorical_crossentropy: 0.0343 - val_loss: 0.2889 - val_acc: 0.9446 - val_categorical_crossentropy: 0.2889\n",
      "Epoch 32/50\n",
      "3019/3019 [==============================] - 3s - loss: 0.0384 - acc: 0.9897 - categorical_crossentropy: 0.0384 - val_loss: 0.2592 - val_acc: 0.9406 - val_categorical_crossentropy: 0.2592\n",
      "Epoch 33/50\n",
      "3019/3019 [==============================] - 3s - loss: 0.0313 - acc: 0.9904 - categorical_crossentropy: 0.0313 - val_loss: 0.2769 - val_acc: 0.9327 - val_categorical_crossentropy: 0.2769\n",
      "Epoch 34/50\n",
      "3019/3019 [==============================] - 2s - loss: 0.0417 - acc: 0.9887 - categorical_crossentropy: 0.0417 - val_loss: 0.2603 - val_acc: 0.9446 - val_categorical_crossentropy: 0.2603\n",
      "Epoch 35/50\n",
      "3019/3019 [==============================] - 2s - loss: 0.0399 - acc: 0.9887 - categorical_crossentropy: 0.0399 - val_loss: 0.2909 - val_acc: 0.9314 - val_categorical_crossentropy: 0.2909\n",
      "Epoch 36/50\n",
      "3019/3019 [==============================] - 3s - loss: 0.0423 - acc: 0.9864 - categorical_crossentropy: 0.0423 - val_loss: 0.3142 - val_acc: 0.9314 - val_categorical_crossentropy: 0.3142\n",
      "Epoch 37/50\n",
      "3019/3019 [==============================] - 2s - loss: 0.0401 - acc: 0.9887 - categorical_crossentropy: 0.0401 - val_loss: 0.2534 - val_acc: 0.9327 - val_categorical_crossentropy: 0.2534\n",
      "Epoch 38/50\n",
      "3019/3019 [==============================] - 2s - loss: 0.0395 - acc: 0.9881 - categorical_crossentropy: 0.0395 - val_loss: 0.3168 - val_acc: 0.9354 - val_categorical_crossentropy: 0.3168\n",
      "Epoch 39/50\n",
      "3019/3019 [==============================] - 2s - loss: 0.0466 - acc: 0.9861 - categorical_crossentropy: 0.0466 - val_loss: 0.2525 - val_acc: 0.9340 - val_categorical_crossentropy: 0.2525\n",
      "Epoch 40/50\n",
      "3019/3019 [==============================] - 2s - loss: 0.0311 - acc: 0.9917 - categorical_crossentropy: 0.0311 - val_loss: 0.2997 - val_acc: 0.9420 - val_categorical_crossentropy: 0.2997\n",
      "Epoch 41/50\n",
      "3019/3019 [==============================] - 2s - loss: 0.0359 - acc: 0.9881 - categorical_crossentropy: 0.0359 - val_loss: 0.2568 - val_acc: 0.9420 - val_categorical_crossentropy: 0.2568\n",
      "Epoch 42/50\n",
      "3019/3019 [==============================] - 2s - loss: 0.0341 - acc: 0.9904 - categorical_crossentropy: 0.0341 - val_loss: 0.2653 - val_acc: 0.9459 - val_categorical_crossentropy: 0.2653\n",
      "Epoch 43/50\n",
      "3019/3019 [==============================] - 2s - loss: 0.0283 - acc: 0.9930 - categorical_crossentropy: 0.0283 - val_loss: 0.2680 - val_acc: 0.9406 - val_categorical_crossentropy: 0.2680\n",
      "Epoch 44/50\n",
      "3019/3019 [==============================] - 2s - loss: 0.0509 - acc: 0.9831 - categorical_crossentropy: 0.0509 - val_loss: 0.3023 - val_acc: 0.9314 - val_categorical_crossentropy: 0.3023\n",
      "Epoch 45/50\n",
      "3019/3019 [==============================] - 2s - loss: 0.0398 - acc: 0.9874 - categorical_crossentropy: 0.0398 - val_loss: 0.2713 - val_acc: 0.9367 - val_categorical_crossentropy: 0.2713\n",
      "Epoch 46/50\n",
      "3019/3019 [==============================] - 2s - loss: 0.0289 - acc: 0.9930 - categorical_crossentropy: 0.0289 - val_loss: 0.2865 - val_acc: 0.9406 - val_categorical_crossentropy: 0.2865\n",
      "Epoch 47/50\n",
      "3019/3019 [==============================] - 2s - loss: 0.0323 - acc: 0.9877 - categorical_crossentropy: 0.0323 - val_loss: 0.3014 - val_acc: 0.9446 - val_categorical_crossentropy: 0.3014\n",
      "Epoch 48/50\n",
      "3019/3019 [==============================] - 2s - loss: 0.0248 - acc: 0.9934 - categorical_crossentropy: 0.0248 - val_loss: 0.2662 - val_acc: 0.9420 - val_categorical_crossentropy: 0.2662\n",
      "Epoch 49/50\n",
      "3019/3019 [==============================] - 2s - loss: 0.0366 - acc: 0.9891 - categorical_crossentropy: 0.0366 - val_loss: 0.3188 - val_acc: 0.9380 - val_categorical_crossentropy: 0.3188\n",
      "Epoch 50/50\n",
      "3019/3019 [==============================] - 2s - loss: 0.0231 - acc: 0.9934 - categorical_crossentropy: 0.0231 - val_loss: 0.2921 - val_acc: 0.9340 - val_categorical_crossentropy: 0.2921\n"
     ]
    }
   ],
   "source": [
    "top_model.compile(optimizer='adam',\n",
    "                  loss='categorical_crossentropy',\n",
    "                  metrics=['accuracy','categorical_crossentropy'])\n",
    "best_model_file = \"./top_model.h5\"\n",
    "best_model = ModelCheckpoint(best_model_file, monitor='val_categorical_crossentropy', verbose = 1, save_best_only = True)\n",
    "top_model.fit(train_features,train_labels,\n",
    "             nb_epoch=nb_epoch, batch_size=batch_size,\n",
    "             validation_data=(val_features,val_labels))\n",
    "time.sleep(0.1)"
   ]
  }
 ],
 "metadata": {
  "kernelspec": {
   "display_name": "Python 2",
   "language": "python",
   "name": "python2"
  },
  "language_info": {
   "codemirror_mode": {
    "name": "ipython",
    "version": 2
   },
   "file_extension": ".py",
   "mimetype": "text/x-python",
   "name": "python",
   "nbconvert_exporter": "python",
   "pygments_lexer": "ipython2",
   "version": "2.7.11"
  }
 },
 "nbformat": 4,
 "nbformat_minor": 0
}
